{
  "cells": [
    {
      "cell_type": "code",
      "execution_count": 24,
      "metadata": {
        "colab": {
          "base_uri": "https://localhost:8080/"
        },
        "id": "YpQGbM2s0Tgx",
        "outputId": "851df20e-bc35-4a83-a677-1ddd93ddc044"
      },
      "outputs": [
        {
          "output_type": "stream",
          "name": "stdout",
          "text": [
            "Requirement already satisfied: pyspark in /usr/local/lib/python3.10/dist-packages (3.5.0)\n",
            "Requirement already satisfied: py4j==0.10.9.7 in /usr/local/lib/python3.10/dist-packages (from pyspark) (0.10.9.7)\n"
          ]
        }
      ],
      "source": [
        "!pip install pyspark\n",
        "from pyspark.sql import SparkSession\n",
        "# Create a Spark Session\n",
        "spark = SparkSession.builder.master(\"local[*]\").getOrCreate()\n",
        "# Check Spark Session Information\n",
        "spark\n",
        "# Import a Spark function from library\n",
        "from pyspark.sql.functions import col\n",
        "spark.stop()"
      ]
    },
    {
      "cell_type": "code",
      "execution_count": 4,
      "metadata": {
        "id": "a0ABlHxx1AnF"
      },
      "outputs": [],
      "source": [
        "from pyspark.sql import SparkSession\n",
        "from pyspark.sql.types import StructType, StructField, StringType, IntegerType, DoubleType, TimestampType"
      ]
    },
    {
      "cell_type": "code",
      "execution_count": 5,
      "metadata": {
        "id": "fWtMaagz1sz0"
      },
      "outputs": [],
      "source": [
        "from pyspark.sql import SparkSession\n",
        "\n",
        "spark = SparkSession.builder \\\n",
        "        .appName(\"Crimes_-_2001_to_Present\") \\\n",
        "        .config(\"spark.driver.memory\", \"6g\") \\\n",
        "        .getOrCreate()"
      ]
    },
    {
      "cell_type": "code",
      "execution_count": 6,
      "metadata": {
        "id": "_zZXAvga1xYY"
      },
      "outputs": [],
      "source": [
        "# Defining schema\n",
        "crime_data_schema = StructType([\n",
        "    StructField(\"ID\", IntegerType(), True),\n",
        "    StructField(\"Case Number\", StringType(), True),\n",
        "    StructField(\"Date\", StringType(), True),\n",
        "    StructField(\"Block\", StringType(), True),\n",
        "    StructField(\"IUCR\", StringType(), True),\n",
        "    StructField(\"Primary Type\", StringType(), True),\n",
        "    StructField(\"Description\", StringType(), True),\n",
        "    StructField(\"Location Description\", StringType(), True),\n",
        "    StructField(\"Arrest\", StringType(), True),\n",
        "    StructField(\"Domestic\", StringType(), True),\n",
        "    StructField(\"Beat\", StringType(), True),\n",
        "    StructField(\"District\", StringType(), True),\n",
        "    StructField(\"Ward\", StringType(), True),\n",
        "    StructField(\"Community Area\", StringType(), True),\n",
        "    StructField(\"FBI Code\", StringType(), True),\n",
        "    StructField(\"X Coordinate\", DoubleType(), True),\n",
        "    StructField(\"Y Coordinate\", DoubleType(), True),\n",
        "    StructField(\"Year\", IntegerType(), True),\n",
        "    StructField(\"Updated On\", TimestampType(), True),\n",
        "    StructField(\"Latitude\", DoubleType(), True),\n",
        "    StructField(\"Longitude\", DoubleType(), True),\n",
        "    StructField(\"Location\", StringType(), True)\n",
        "])"
      ]
    },
    {
      "cell_type": "markdown",
      "metadata": {
        "id": "-QsQp42rChXA"
      },
      "source": [
        "## Loading the dataset"
      ]
    },
    {
      "cell_type": "code",
      "execution_count": 7,
      "metadata": {
        "id": "iruUe6m63ppl"
      },
      "outputs": [],
      "source": [
        "crime_dataframe = spark.read.format(\"csv\") \\\n",
        "                .option(\"header\", True) \\\n",
        "                .option(\"inferSchema\", False) \\\n",
        "                .schema(crime_data_schema) \\\n",
        "                .load(\"Crimes_-_2001_to_Present.csv\")"
      ]
    },
    {
      "cell_type": "code",
      "execution_count": 8,
      "metadata": {
        "colab": {
          "base_uri": "https://localhost:8080/"
        },
        "id": "Swun1IxY5_mv",
        "outputId": "44510b92-de3c-4001-dd1c-81c7291fbb61"
      },
      "outputs": [
        {
          "output_type": "stream",
          "name": "stdout",
          "text": [
            "+--------+-----------+--------------------+--------------------+----+--------------------+--------------------+--------------------+------+--------+----+--------+----+--------------+--------+------------+------------+----+----------+------------+-------------+--------------------+\n",
            "|      ID|Case Number|                Date|               Block|IUCR|        Primary Type|         Description|Location Description|Arrest|Domestic|Beat|District|Ward|Community Area|FBI Code|X Coordinate|Y Coordinate|Year|Updated On|    Latitude|    Longitude|            Location|\n",
            "+--------+-----------+--------------------+--------------------+----+--------------------+--------------------+--------------------+------+--------+----+--------+----+--------------+--------+------------+------------+----+----------+------------+-------------+--------------------+\n",
            "| 5741943|   HN549294|08/25/2007 09:22:...|  074XX N ROGERS AVE|0560|             ASSAULT|              SIMPLE|               OTHER| false|   false|2422|     024|  49|             1|     08A|        NULL|        NULL|2007|      NULL|        NULL|         NULL|                NULL|\n",
            "| 1930689|   HH109118|01/05/2002 09:24:...|      007XX E 103 ST|0820|               THEFT|      $500 AND UNDER|         GAS STATION|  true|   false|0512|     005|NULL|          NULL|      06|        NULL|        NULL|2002|      NULL|        NULL|         NULL|                NULL|\n",
            "|13203321|   JG415333|09/06/2023 05:00:...|    002XX N Wells st|1320|     CRIMINAL DAMAGE|          TO VEHICLE|PARKING LOT / GAR...| false|   false|0122|     001|  42|            32|      14|        NULL|        NULL|2023|      NULL|        NULL|         NULL|                NULL|\n",
            "|13210088|   JG423627|08/31/2023 12:00:...|023XX W JACKSON BLVD|1153|  DECEPTIVE PRACTICE|FINANCIAL IDENTIT...|              STREET| false|   false|1225|     012|  27|            28|      11|   1160870.0|   1898642.0|2023|      NULL|41.877565108| -87.68479102|(41.877565108, -8...|\n",
            "|13210004|   JG422532|07/24/2023 09:45:...|073XX S JEFFERY BLVD|0281|CRIMINAL SEXUAL A...|      NON-AGGRAVATED|           APARTMENT| false|   false|0333|     003|   7|            43|      02|   1190812.0|   1856743.0|2023|      NULL|  41.7619185|-87.576209245|(41.7619185, -87....|\n",
            "|13210062|   JG423596|08/27/2023 07:00:...|034XX N LAWNDALE AVE|0820|               THEFT|      $500 AND UNDER|           APARTMENT| false|   false|1732|     017|  30|            21|      06|   1151117.0|   1922554.0|2023|      NULL|41.943378528|  -87.7199738|(41.943378528, -8...|\n",
            "|13210107|   JG411849|09/04/2023 09:30:...|   053XX S HOMAN AVE|1310|     CRIMINAL DAMAGE|         TO PROPERTY|  RESIDENCE - GARAGE| false|   false|0822|     008|  14|            63|      14|   1154617.0|   1869046.0|2023|      NULL|41.796477414|-87.708540915|(41.796477414, -8...|\n",
            "|13210060|   JG423567|08/15/2023 02:20:...|077XX S SPAULDING...|0810|               THEFT|           OVER $500|RESIDENCE - PORCH...| false|   false|0835|     008|  18|            70|      06|   1155724.0|   1853097.0|2023|      NULL|41.752688801|-87.704908791|(41.752688801, -8...|\n",
            "|13210120|   JG423499|07/24/2023 04:09:...|     002XX W 75TH ST|1120|  DECEPTIVE PRACTICE|             FORGERY|   CURRENCY EXCHANGE| false|   false|0731|     007|   6|            69|      10|   1175716.0|   1855233.0|2023|      NULL|41.758126171|-87.631582508|(41.758126171, -8...|\n",
            "|13210071|   JG421086|09/03/2023 10:27:...|   089XX S LOOMIS ST|0890|               THEFT|       FROM BUILDING|           APARTMENT| false|   false|2222|     022|  21|            73|      06|   1168564.0|   1845472.0|2023|      NULL|41.731497731|-87.658074565|(41.731497731, -8...|\n",
            "|13210035|   JG422370|08/17/2023 07:00:...|     019XX W 71ST ST|0820|               THEFT|      $500 AND UNDER|              STREET| false|   false|0735|     007|  17|            67|      06|   1164749.0|   1857588.0|2023|      NULL|41.764827083|-87.671709119|(41.764827083, -8...|\n",
            "|13210008|   JG422517|08/24/2023 02:27:...|  031XX S WALLACE ST|1110|  DECEPTIVE PRACTICE|         BOGUS CHECK|   CURRENCY EXCHANGE| false|   false|0915|     009|  11|            60|      11|   1172803.0|   1884190.0|2023|      NULL|41.837651929|-87.641404086|(41.837651929, -8...|\n",
            "|13210072|   JG422242|08/11/2023 11:00:...|  0000X S ALBANY AVE|1790|OFFENSE INVOLVING...|     CHILD ABDUCTION|           RESIDENCE| false|    true|1124|     011|  28|            27|      26|   1155914.0|   1899709.0|2023|      NULL|41.880594385|-87.702959421|(41.880594385, -8...|\n",
            "|11662417|   JC232642|04/21/2019 12:30:...|     009XX E 80TH ST|031A|             ROBBERY|     ARMED - HANDGUN|           RESIDENCE| false|   false|0631|     006|   8|            44|      03|   1184044.0|   1852159.0|2019|      NULL|41.749500329|  -87.6011574|(41.749500329, -8...|\n",
            "|12218064|   JD426642|10/30/2020 04:30:...|     011XX E 82ND ST|0266|CRIMINAL SEXUAL A...|           PREDATORY|           RESIDENCE|  true|    true|0411|     004|   8|            45|      02|   1185144.0|   1850850.0|2020|      NULL|41.745882542|-87.597167639|(41.745882542, -8...|\n",
            "|12342615|   JE202211|04/17/2021 03:20:...| 081XX S PRAIRIE AVE|0325|             ROBBERY| VEHICULAR HIJACKING|           RESIDENCE|  true|   false|0631|     006|   6|            44|      03|   1179448.0|   1851073.0|2021|      NULL|41.746626309|-87.618031954|(41.746626309, -8...|\n",
            "|12416972|   JE293535|10/01/2020 12:01:...|     031XX W 53RD PL|1753|OFFENSE INVOLVING...|SEXUAL ASSAULT OF...|           RESIDENCE| false|    true|0923|     009|  14|            63|      02|        NULL|        NULL|2020|      NULL|        NULL|         NULL|                NULL|\n",
            "|12416974|   JE293464|08/10/2011 12:01:...|     031XX W 53RD PL|1753|OFFENSE INVOLVING...|SEXUAL ASSAULT OF...|           RESIDENCE| false|    true|0923|     009|  14|            63|      02|        NULL|        NULL|2011|      NULL|        NULL|         NULL|                NULL|\n",
            "|12536164|   JE439378|09/24/2015 12:00:...|     031XX W 53RD PL|1753|OFFENSE INVOLVING...|SEXUAL ASSAULT OF...|           APARTMENT| false|    true|0923|     009|  14|            63|      02|        NULL|        NULL|2015|      NULL|        NULL|         NULL|                NULL|\n",
            "|12536166|   JE439332|09/07/2014 12:00:...|     031XX W 53RD PL|1753|OFFENSE INVOLVING...|SEXUAL ASSAULT OF...|           APARTMENT| false|    true|0923|     009|  14|            63|      02|        NULL|        NULL|2014|      NULL|        NULL|         NULL|                NULL|\n",
            "+--------+-----------+--------------------+--------------------+----+--------------------+--------------------+--------------------+------+--------+----+--------+----+--------------+--------+------------+------------+----+----------+------------+-------------+--------------------+\n",
            "only showing top 20 rows\n",
            "\n"
          ]
        }
      ],
      "source": [
        "crime_dataframe.show()"
      ]
    },
    {
      "cell_type": "code",
      "execution_count": 9,
      "metadata": {
        "colab": {
          "base_uri": "https://localhost:8080/"
        },
        "id": "yho2G-3y6V3U",
        "outputId": "0c41f0fd-0d7f-4cd4-f9bf-ecd10954c26f"
      },
      "outputs": [
        {
          "output_type": "execute_result",
          "data": {
            "text/plain": [
              "6136003"
            ]
          },
          "metadata": {},
          "execution_count": 9
        }
      ],
      "source": [
        "crime_dataframe.count()"
      ]
    },
    {
      "cell_type": "markdown",
      "metadata": {
        "id": "AigloYXTC6iq"
      },
      "source": [
        "## Cleaning the data"
      ]
    },
    {
      "cell_type": "code",
      "execution_count": 10,
      "metadata": {
        "id": "djb5qof9CvNy"
      },
      "outputs": [],
      "source": [
        "crime_dataframe = crime_dataframe.na.drop(subset=['ID','Case Number'])"
      ]
    },
    {
      "cell_type": "code",
      "execution_count": 11,
      "metadata": {
        "colab": {
          "base_uri": "https://localhost:8080/"
        },
        "id": "Fcaweuu5D9Je",
        "outputId": "07c630e7-7759-4d0a-e83d-272cf5ecb797"
      },
      "outputs": [
        {
          "output_type": "execute_result",
          "data": {
            "text/plain": [
              "6136003"
            ]
          },
          "metadata": {},
          "execution_count": 11
        }
      ],
      "source": [
        "crime_dataframe.count()"
      ]
    },
    {
      "cell_type": "code",
      "execution_count": null,
      "metadata": {
        "colab": {
          "base_uri": "https://localhost:8080/"
        },
        "id": "6auTRUnjExED",
        "outputId": "913b1be4-3938-44ee-c99f-c91e33ea829c"
      },
      "outputs": [
        {
          "name": "stdout",
          "output_type": "stream",
          "text": [
            "+--------------------+\n",
            "|                Date|\n",
            "+--------------------+\n",
            "|08/25/2007 09:22:...|\n",
            "|01/05/2002 09:24:...|\n",
            "|09/06/2023 05:00:...|\n",
            "|08/31/2023 12:00:...|\n",
            "|07/24/2023 09:45:...|\n",
            "|08/27/2023 07:00:...|\n",
            "|09/04/2023 09:30:...|\n",
            "|08/15/2023 02:20:...|\n",
            "|07/24/2023 04:09:...|\n",
            "|09/03/2023 10:27:...|\n",
            "|08/17/2023 07:00:...|\n",
            "|08/24/2023 02:27:...|\n",
            "|08/11/2023 11:00:...|\n",
            "|04/21/2019 12:30:...|\n",
            "|10/30/2020 04:30:...|\n",
            "|04/17/2021 03:20:...|\n",
            "|10/01/2020 12:01:...|\n",
            "|08/10/2011 12:01:...|\n",
            "|09/24/2015 12:00:...|\n",
            "|09/07/2014 12:00:...|\n",
            "+--------------------+\n",
            "only showing top 20 rows\n",
            "\n"
          ]
        }
      ],
      "source": [
        "crime_dataframe.select(\"Date\").show()"
      ]
    },
    {
      "cell_type": "code",
      "execution_count": 12,
      "metadata": {
        "id": "WwbpHaY4ErjY"
      },
      "outputs": [],
      "source": [
        "from pyspark.sql.functions import to_timestamp\n",
        "crime_dataframe = crime_dataframe.withColumn(\"Date\", to_timestamp(\"Date\", \"MM/dd/yyyy HH:mm:ss a\"))"
      ]
    },
    {
      "cell_type": "code",
      "execution_count": 13,
      "metadata": {
        "colab": {
          "base_uri": "https://localhost:8080/"
        },
        "id": "9ObNa1jOHxaN",
        "outputId": "3805d820-842f-452d-fe47-8a8e56f3364f"
      },
      "outputs": [
        {
          "output_type": "stream",
          "name": "stdout",
          "text": [
            "root\n",
            " |-- ID: integer (nullable = true)\n",
            " |-- Case Number: string (nullable = true)\n",
            " |-- Date: timestamp (nullable = true)\n",
            " |-- Block: string (nullable = true)\n",
            " |-- IUCR: string (nullable = true)\n",
            " |-- Primary Type: string (nullable = true)\n",
            " |-- Description: string (nullable = true)\n",
            " |-- Location Description: string (nullable = true)\n",
            " |-- Arrest: string (nullable = true)\n",
            " |-- Domestic: string (nullable = true)\n",
            " |-- Beat: string (nullable = true)\n",
            " |-- District: string (nullable = true)\n",
            " |-- Ward: string (nullable = true)\n",
            " |-- Community Area: string (nullable = true)\n",
            " |-- FBI Code: string (nullable = true)\n",
            " |-- X Coordinate: double (nullable = true)\n",
            " |-- Y Coordinate: double (nullable = true)\n",
            " |-- Year: integer (nullable = true)\n",
            " |-- Updated On: timestamp (nullable = true)\n",
            " |-- Latitude: double (nullable = true)\n",
            " |-- Longitude: double (nullable = true)\n",
            " |-- Location: string (nullable = true)\n",
            "\n"
          ]
        }
      ],
      "source": [
        "crime_dataframe.printSchema()"
      ]
    },
    {
      "cell_type": "code",
      "execution_count": 14,
      "metadata": {
        "id": "-fSLop21HQ81",
        "colab": {
          "base_uri": "https://localhost:8080/"
        },
        "outputId": "2182beea-9368-4f6f-b039-d57e8345479a"
      },
      "outputs": [
        {
          "output_type": "stream",
          "name": "stdout",
          "text": [
            "+-------------------+\n",
            "|               Date|\n",
            "+-------------------+\n",
            "|2007-08-25 09:22:18|\n",
            "|               NULL|\n",
            "|               NULL|\n",
            "|2023-08-31 12:00:00|\n",
            "|               NULL|\n",
            "|2023-08-27 07:00:00|\n",
            "|               NULL|\n",
            "|               NULL|\n",
            "|               NULL|\n",
            "|2023-09-03 10:27:00|\n",
            "|2023-08-17 07:00:00|\n",
            "|               NULL|\n",
            "|2023-08-11 11:00:00|\n",
            "|2019-04-21 12:30:00|\n",
            "|               NULL|\n",
            "|               NULL|\n",
            "|               NULL|\n",
            "|               NULL|\n",
            "|               NULL|\n",
            "|               NULL|\n",
            "+-------------------+\n",
            "only showing top 20 rows\n",
            "\n"
          ]
        }
      ],
      "source": [
        "crime_dataframe.select(\"Date\").show()"
      ]
    },
    {
      "cell_type": "markdown",
      "metadata": {
        "id": "1g6eZgz6ID5o"
      },
      "source": [
        "## Filter for last ten years"
      ]
    },
    {
      "cell_type": "code",
      "execution_count": 15,
      "metadata": {
        "id": "KL1FmyRLIBW-"
      },
      "outputs": [],
      "source": [
        "from pyspark.sql.functions import current_date, date_sub, year\n",
        "\n",
        "current_year = 2023\n",
        "crime_dataframe = crime_dataframe.filter(year(\"Date\") >= (current_year - 10))"
      ]
    },
    {
      "cell_type": "code",
      "execution_count": 16,
      "metadata": {
        "colab": {
          "base_uri": "https://localhost:8080/"
        },
        "id": "25Ec5t-9HbOB",
        "outputId": "f4b3d9ef-77aa-4343-f020-ae85999c83ac"
      },
      "outputs": [
        {
          "output_type": "execute_result",
          "data": {
            "text/plain": [
              "376869"
            ]
          },
          "metadata": {},
          "execution_count": 16
        }
      ],
      "source": [
        "crime_dataframe.count()"
      ]
    },
    {
      "cell_type": "markdown",
      "metadata": {
        "id": "sC_Cjbv1LtKl"
      },
      "source": [
        "## Removing Records"
      ]
    },
    {
      "cell_type": "code",
      "execution_count": 17,
      "metadata": {
        "id": "mu71RJrlLTAt"
      },
      "outputs": [],
      "source": [
        "crime_dataframe_filtered = crime_dataframe.filter(~col(\"Primary Type\").isin(\n",
        "    'NON-CRIMINAL (SUBJECT SPECIFIED)',\n",
        "    'OTHER OFFENSE',\n",
        "    'STALKING',\n",
        "    'NON - CRIMINAL',\n",
        "    'ARSON'\n",
        "))"
      ]
    },
    {
      "cell_type": "code",
      "execution_count": 18,
      "metadata": {
        "colab": {
          "base_uri": "https://localhost:8080/"
        },
        "id": "8swLpXT1L8BQ",
        "outputId": "a877a2a6-ab7e-4473-f1f8-81d495260997"
      },
      "outputs": [
        {
          "output_type": "stream",
          "name": "stdout",
          "text": [
            "+--------------------+\n",
            "|        Primary Type|\n",
            "+--------------------+\n",
            "|  DECEPTIVE PRACTICE|\n",
            "|               THEFT|\n",
            "|               THEFT|\n",
            "|               THEFT|\n",
            "|OFFENSE INVOLVING...|\n",
            "|             ROBBERY|\n",
            "|   WEAPONS VIOLATION|\n",
            "|         SEX OFFENSE|\n",
            "|             BATTERY|\n",
            "|         SEX OFFENSE|\n",
            "|OFFENSE INVOLVING...|\n",
            "|OFFENSE INVOLVING...|\n",
            "|     CRIMINAL DAMAGE|\n",
            "|               THEFT|\n",
            "|   CRIMINAL TRESPASS|\n",
            "|               THEFT|\n",
            "|   CRIMINAL TRESPASS|\n",
            "|             BATTERY|\n",
            "|               THEFT|\n",
            "|     CRIMINAL DAMAGE|\n",
            "+--------------------+\n",
            "only showing top 20 rows\n",
            "\n"
          ]
        }
      ],
      "source": [
        "crime_dataframe_filtered.select(\"Primary Type\").show()"
      ]
    },
    {
      "cell_type": "markdown",
      "metadata": {
        "id": "Q4W3ngXUMYXL"
      },
      "source": [
        "## Merging Columns"
      ]
    },
    {
      "cell_type": "code",
      "execution_count": 19,
      "metadata": {
        "id": "jZFg3ZBhMGSM"
      },
      "outputs": [],
      "source": [
        "from pyspark.sql.functions import when\n",
        "\n",
        "crime_dataframe_filtered = crime_dataframe_filtered.withColumn(\"Primary Type\",\n",
        "                  when(col(\"Primary Type\").isin('SEX OFFENSE', 'PROSTITUTION'), 'SEX OFFENSE/PROSTITUTION').otherwise(col(\"Primary Type\")))"
      ]
    },
    {
      "cell_type": "code",
      "execution_count": 20,
      "metadata": {
        "colab": {
          "base_uri": "https://localhost:8080/"
        },
        "id": "Z8ec0y9FIINb",
        "outputId": "dabc0988-9952-4ab2-cee4-8a046d256cf7"
      },
      "outputs": [
        {
          "output_type": "stream",
          "name": "stdout",
          "text": [
            "+--------+-----------+-------------------+--------------------+----+--------------------+--------------------+--------------------+------+--------+----+--------+----+--------------+--------+------------+------------+----+----------+------------+-------------+--------------------+\n",
            "|      ID|Case Number|               Date|               Block|IUCR|        Primary Type|         Description|Location Description|Arrest|Domestic|Beat|District|Ward|Community Area|FBI Code|X Coordinate|Y Coordinate|Year|Updated On|    Latitude|    Longitude|            Location|\n",
            "+--------+-----------+-------------------+--------------------+----+--------------------+--------------------+--------------------+------+--------+----+--------+----+--------------+--------+------------+------------+----+----------+------------+-------------+--------------------+\n",
            "|13210088|   JG423627|2023-08-31 12:00:00|023XX W JACKSON BLVD|1153|  DECEPTIVE PRACTICE|FINANCIAL IDENTIT...|              STREET| false|   false|1225|     012|  27|            28|      11|   1160870.0|   1898642.0|2023|      NULL|41.877565108| -87.68479102|(41.877565108, -8...|\n",
            "|13210062|   JG423596|2023-08-27 07:00:00|034XX N LAWNDALE AVE|0820|               THEFT|      $500 AND UNDER|           APARTMENT| false|   false|1732|     017|  30|            21|      06|   1151117.0|   1922554.0|2023|      NULL|41.943378528|  -87.7199738|(41.943378528, -8...|\n",
            "|13210071|   JG421086|2023-09-03 10:27:00|   089XX S LOOMIS ST|0890|               THEFT|       FROM BUILDING|           APARTMENT| false|   false|2222|     022|  21|            73|      06|   1168564.0|   1845472.0|2023|      NULL|41.731497731|-87.658074565|(41.731497731, -8...|\n",
            "|13210035|   JG422370|2023-08-17 07:00:00|     019XX W 71ST ST|0820|               THEFT|      $500 AND UNDER|              STREET| false|   false|0735|     007|  17|            67|      06|   1164749.0|   1857588.0|2023|      NULL|41.764827083|-87.671709119|(41.764827083, -8...|\n",
            "|13210072|   JG422242|2023-08-11 11:00:00|  0000X S ALBANY AVE|1790|OFFENSE INVOLVING...|     CHILD ABDUCTION|           RESIDENCE| false|    true|1124|     011|  28|            27|      26|   1155914.0|   1899709.0|2023|      NULL|41.880594385|-87.702959421|(41.880594385, -8...|\n",
            "|11662417|   JC232642|2019-04-21 12:30:00|     009XX E 80TH ST|031A|             ROBBERY|     ARMED - HANDGUN|           RESIDENCE| false|   false|0631|     006|   8|            44|      03|   1184044.0|   1852159.0|2019|      NULL|41.749500329|  -87.6011574|(41.749500329, -8...|\n",
            "|12888104|   JF469015|2022-11-10 03:47:00|      072XX S MAY ST|1477|   WEAPONS VIOLATION|RECKLESS FIREARM ...|              STREET| false|   false|0733|     007|  17|            68|      15|   1169903.0|   1856822.0|2022|      NULL| 41.76261474|-87.652840463|(41.76261474, -87...|\n",
            "|12955336|   JG119661|2022-11-16 10:23:00|087XX S KINGSTON AVE|1562|SEX OFFENSE/PROST...|AGGRAVATED CRIMIN...|           RESIDENCE| false|    true|0423|     004|   7|            46|      17|        NULL|        NULL|2022|      NULL|        NULL|         NULL|                NULL|\n",
            "|13041906|   JG203447|2022-10-15 01:30:00|051XX W WRIGHTWOO...|0486|             BATTERY|DOMESTIC BATTERY ...|           APARTMENT|  true|    true|2521|     025|  31|            19|     08B|        NULL|        NULL|2022|      NULL|        NULL|         NULL|                NULL|\n",
            "|13045102|   JG226663|2023-03-30 09:16:00|  080XX S DREXEL AVE|1544|SEX OFFENSE/PROST...|SEXUAL EXPLOITATI...|           APARTMENT| false|    true|0631|     006|   8|            44|      17|   1183631.0|   1851847.0|2023|      NULL|41.748653803|-87.602680492|(41.748653803, -8...|\n",
            "|13074891|   JG262771|2023-05-10 12:43:00|   028XX N MANGO AVE|1754|OFFENSE INVOLVING...|AGGRAVATED SEXUAL...|           RESIDENCE| false|    true|2514|     025|  30|            19|      02|   1137557.0|   1918320.0|2023|      NULL|41.932015426|-87.769916668|(41.932015426, -8...|\n",
            "|13099339|   JG291745|2023-04-01 11:13:00| 020XX N LAPORTE AVE|1751|OFFENSE INVOLVING...|CRIMINAL SEXUAL A...|           RESIDENCE| false|    true|2522|     025|  26|            19|      17|   1143059.0|   1913090.0|2023|      NULL|41.917562778|-87.749828117|(41.917562778, -8...|\n",
            "|13181797|   JG389859|2023-08-20 04:30:00|020XX N LEAMINGTO...|1310|     CRIMINAL DAMAGE|         TO PROPERTY|           RESIDENCE|  true|    true|2522|     025|  36|            19|      14|   1141753.0|   1913164.0|2023|      NULL|41.917790125|-87.754624625|(41.917790125, -8...|\n",
            "|13181885|   JG389920|2023-08-20 06:00:00|020XX N LECLAIRE AVE|0820|               THEFT|      $500 AND UNDER|              STREET|  true|    true|2522|     025|  26|            19|      06|   1142089.0|   1913063.0|2023|      NULL|41.917506742|-87.753392641|(41.917506742, -8...|\n",
            "|13183042|   JG391309|2023-08-21 07:28:00|016XX N WASHTENAW...|1350|   CRIMINAL TRESPASS|   TO STATE SUP LAND|CHA PARKING LOT /...|  true|   false|1421|     014|  26|            24|      26|   1158119.0|   1910792.0|2023|      NULL|41.910962378|-87.694559852|(41.910962378, -8...|\n",
            "|13184491|   JG393031|2023-08-22 11:44:00|  026XX N ELSTON AVE|0860|               THEFT|        RETAIL THEFT|    DEPARTMENT STORE|  true|   false|1432|     014|  32|            22|      06|   1160867.0|   1917657.0|2023|      NULL|41.929743818|-87.684273777|(41.929743818, -8...|\n",
            "|13188630|   JG398002|2023-08-26 02:15:00|047XX W FULLERTON...|1330|   CRIMINAL TRESPASS|             TO LAND|          RESTAURANT|  true|   false|2522|     025|  31|            19|      26|   1144183.0|   1915534.0|2023|      NULL|41.924248302|-87.745636923|(41.924248302, -8...|\n",
            "|13189895|   JG399264|2023-08-27 01:16:00| 048XX N KIMBALL AVE|0454|             BATTERY|AGGRAVATED P.O. -...|              STREET|  true|   false|1712|     017|  33|            14|     08B|   1152841.0|   1931987.0|2023|      NULL|41.969229299|-87.713386363|(41.969229299, -8...|\n",
            "|13190165|   JG399731|2023-08-27 11:58:00|  025XX N ELSTON AVE|0860|               THEFT|        RETAIL THEFT|     APPLIANCE STORE|  true|   false|1432|     014|  32|            22|      06|   1161467.0|   1917112.0|2023|      NULL|41.928235818|-87.682084152|(41.928235818, -8...|\n",
            "|13190943|   JG400635|2023-08-28 06:23:00|027XX N NARRAGANS...|1320|     CRIMINAL DAMAGE|          TO VEHICLE|PARKING LOT / GAR...|  true|   false|2512|     025|  36|            19|      14|   1133273.0|   1917606.0|2023|      NULL|  41.9301323|-87.785676799|(41.9301323, -87....|\n",
            "+--------+-----------+-------------------+--------------------+----+--------------------+--------------------+--------------------+------+--------+----+--------+----+--------------+--------+------------+------------+----+----------+------------+-------------+--------------------+\n",
            "only showing top 20 rows\n",
            "\n"
          ]
        }
      ],
      "source": [
        "crime_dataframe_filtered.show()"
      ]
    },
    {
      "cell_type": "markdown",
      "metadata": {
        "id": "QEX4rGcKM4ln"
      },
      "source": [
        "## Analysis"
      ]
    },
    {
      "cell_type": "markdown",
      "metadata": {
        "id": "6z27b9fMJXTL"
      },
      "source": [
        "# Show year-wise trend of the crime for last ten years."
      ]
    },
    {
      "cell_type": "code",
      "execution_count": 21,
      "metadata": {
        "colab": {
          "base_uri": "https://localhost:8080/",
          "height": 842
        },
        "id": "FGPR2QAPM8GQ",
        "outputId": "7f7223bb-4a89-46aa-b473-08e971d05276"
      },
      "outputs": [
        {
          "output_type": "stream",
          "name": "stdout",
          "text": [
            "+----+------+\n",
            "|Year| count|\n",
            "+----+------+\n",
            "|2013|115803|\n",
            "|2014|102114|\n",
            "|2015| 98053|\n",
            "|2016| 48053|\n",
            "|2017|   403|\n",
            "|2018|   388|\n",
            "|2019|   321|\n",
            "|2020|   550|\n",
            "|2021|   577|\n",
            "|2022|   611|\n",
            "|2023|  9996|\n",
            "+----+------+\n",
            "\n"
          ]
        },
        {
          "output_type": "display_data",
          "data": {
            "text/plain": [
              "<Figure size 1000x600 with 1 Axes>"
            ],
            "image/png": "[encoded data removed]"
          },
          "metadata": {}
        }
      ],
      "source": [
        "from pyspark.sql.functions import year\n",
        "import matplotlib.pyplot as plt\n",
        "\n",
        "crime_data_yearly = crime_dataframe.groupBy(year(\"Date\").alias(\"Year\")).count().orderBy(\"Year\")\n",
        "crime_data_yearly.show()\n",
        "\n",
        "year_list = [row.Year for row in crime_data_yearly.collect()]\n",
        "crime_count = [row[\"count\"] for row in crime_data_yearly.collect()]\n",
        "\n",
        "plt.figure(figsize=(10, 6))\n",
        "plt.plot(year_list, crime_count, marker='o')\n",
        "plt.xlabel(\"Year\")\n",
        "plt.ylabel(\"Number of Crimes\")\n",
        "plt.title(\"Year-wise Crime Trend (Last 10 Years)\")\n",
        "plt.show()"
      ]
    },
    {
      "cell_type": "markdown",
      "metadata": {
        "id": "T1xaXprbKDYc"
      },
      "source": [
        "#Find out at which hour of the day crime is highest."
      ]
    },
    {
      "cell_type": "code",
      "execution_count": 22,
      "metadata": {
        "colab": {
          "base_uri": "https://localhost:8080/"
        },
        "id": "cowI7EDyNDdV",
        "outputId": "8c558fea-c373-40ae-b12b-947590d97c60"
      },
      "outputs": [
        {
          "output_type": "stream",
          "name": "stdout",
          "text": [
            "Common hour of crime occurance: 12\n"
          ]
        }
      ],
      "source": [
        "from pyspark.sql.functions import hour\n",
        "\n",
        "crime_data_hourly = crime_dataframe.groupBy(hour(\"Date\").alias(\"Hour\")).count().orderBy(\"count\", ascending=False)\n",
        "most_common_hour = crime_data_hourly.first()[\"Hour\"]\n",
        "print(f\"Common hour of crime occurance: {most_common_hour}\")"
      ]
    },
    {
      "cell_type": "markdown",
      "metadata": {
        "id": "FPjzKakUKJc-"
      },
      "source": [
        "#Find top ten crimes and present them as a bar chart."
      ]
    },
    {
      "cell_type": "code",
      "execution_count": 23,
      "metadata": {
        "colab": {
          "base_uri": "https://localhost:8080/",
          "height": 564
        },
        "id": "f6dTQowxNRNB",
        "outputId": "87c14654-2bd1-4c9f-ba72-50e192bfcd35"
      },
      "outputs": [
        {
          "output_type": "display_data",
          "data": {
            "text/plain": [
              "<Figure size 1000x600 with 1 Axes>"
            ],
            "image/png": "[encoded data removed]"
          },
          "metadata": {}
        }
      ],
      "source": [
        "from pyspark.sql.functions import desc\n",
        "\n",
        "top_crimes = crime_dataframe.groupBy(\"Primary Type\").count().orderBy(desc(\"count\")).limit(10)\n",
        "\n",
        "crime_types = [row[\"Primary Type\"] for row in top_crimes.collect()]\n",
        "crime_count = [row[\"count\"] for row in top_crimes.collect()]\n",
        "\n",
        "plt.figure(figsize=(10, 6))\n",
        "plt.barh(crime_types, crime_count)\n",
        "plt.xlabel(\"Number of Crimes\")\n",
        "plt.ylabel(\"Crime Type\")\n",
        "plt.title(\"Top Ten Crime Types\")\n",
        "plt.show()"
      ]
    }
  ],
  "metadata": {
    "colab": {
      "provenance": []
    },
    "kernelspec": {
      "display_name": "Python 3",
      "name": "python3"
    },
    "language_info": {
      "name": "python"
    }
  },
  "nbformat": 4,
  "nbformat_minor": 0
}